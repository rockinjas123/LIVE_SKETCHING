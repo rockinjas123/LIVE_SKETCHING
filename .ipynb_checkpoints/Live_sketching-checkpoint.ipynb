{
 "cells": [
  {
   "cell_type": "code",
   "execution_count": 40,
   "metadata": {},
   "outputs": [],
   "source": [
    "import cv2\n",
    "import numpy as np\n",
    "import matplotlib\n",
    "import matplotlib.pyplot as plt\n",
    "%matplotlib inline"
   ]
  },
  {
   "cell_type": "code",
   "execution_count": 41,
   "metadata": {},
   "outputs": [],
   "source": [
    "def sketch(image):\n",
    "    img_gray=cv2.cvtColor(image,cv2.COLOR_BGR2GRAY)   # converting our image to grayscale\n",
    "    img_blur=cv2.bilateralFilter(image,7,55,55)     # removing the noise improving smoothness of image\n",
    "    img_edges=cv2.Canny(img_blur,20,0)        # finding the edges\n",
    "    ret,thesd=cv2.threshold(img_edges,70,255,cv2.THRESH_BINARY_INV)   # above threshold will be bllack in color\n",
    "    return(thesd)"
   ]
  },
  {
   "cell_type": "code",
   "execution_count": 42,
   "metadata": {},
   "outputs": [],
   "source": [
    "cap=cv2.VideoCapture(0) #to access the webcam"
   ]
  },
  {
   "cell_type": "code",
   "execution_count": 43,
   "metadata": {},
   "outputs": [],
   "source": [
    "#Live sketching video\n",
    "while True:\n",
    "    ret,frame=cap.read()\n",
    "    cv2.imshow(\"LIVE IMAGE SKETCHER\",sketch(frame))\n",
    "    if cv2.waitKey(1)==13:    # 13 is the enter key\n",
    "        break\n",
    "cap.release()\n",
    "cv2.destroyAllWindows()"
   ]
  },
  {
   "cell_type": "code",
   "execution_count": null,
   "metadata": {},
   "outputs": [],
   "source": []
  }
 ],
 "metadata": {
  "kernelspec": {
   "display_name": "Python 3",
   "language": "python",
   "name": "python3"
  },
  "language_info": {
   "codemirror_mode": {
    "name": "ipython",
    "version": 3
   },
   "file_extension": ".py",
   "mimetype": "text/x-python",
   "name": "python",
   "nbconvert_exporter": "python",
   "pygments_lexer": "ipython3",
   "version": "3.8.2"
  }
 },
 "nbformat": 4,
 "nbformat_minor": 4
}
