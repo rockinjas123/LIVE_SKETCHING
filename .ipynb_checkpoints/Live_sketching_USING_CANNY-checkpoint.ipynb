{
 "cells": [
  {
   "cell_type": "code",
   "execution_count": 49,
   "metadata": {},
   "outputs": [],
   "source": [
    "import cv2\n",
    "import numpy as np\n",
    "import dlib\n",
    "import matplotlib\n",
    "import matplotlib.pyplot as plt\n",
    "%matplotlib inline"
   ]
  },
  {
   "cell_type": "code",
   "execution_count": 50,
   "metadata": {},
   "outputs": [],
   "source": [
    "def sketch(image):\n",
    "    img_gray=cv2.cvtColor(image,cv2.COLOR_BGR2GRAY)   # converting our image to grayscale\n",
    "    img_blur=cv2.bilateralFilter(image,7,55,55)     # removing the noise improving smoothness of image\n",
    "    img_edges=cv2.Canny(img_blur,20,0)       # finding the edges\n",
    "    ret,thesd=cv2.threshold(img_edges,70,255,cv2.THRESH_BINARY_INV)   # above threshold will be bllack in color\n",
    "    return(thesd)"
   ]
  },
  {
   "cell_type": "code",
   "execution_count": 51,
   "metadata": {},
   "outputs": [],
   "source": [
    "cap=cv2.VideoCapture(0) #to access the webcam"
   ]
  },
  {
   "cell_type": "markdown",
   "metadata": {},
   "source": [
    "FOR ENTIRE SCREEN"
   ]
  },
  {
   "cell_type": "code",
   "execution_count": 52,
   "metadata": {},
   "outputs": [],
   "source": [
    "while True:\n",
    "    ret,frame=cap.read()\n",
    "    cv2.imshow(\"LIVE IMAGE SKETCHER\",sketch(frame))\n",
    "    if cv2.waitKey(1)==13:    # 13 is the enter key\n",
    "        break\n",
    "cap.release()\n",
    "cv2.destroyAllWindows()"
   ]
  },
  {
   "cell_type": "markdown",
   "metadata": {},
   "source": [
    "FOR FACE ONLY"
   ]
  },
  {
   "cell_type": "code",
   "execution_count": null,
   "metadata": {},
   "outputs": [],
   "source": [
    "while True:\n",
    "    ret,frame=cap.read()\n",
    "    hogFaceDetector = dlib.get_frontal_face_detector()\n",
    "    faceRects = hogFaceDetector(frame, 0)\n",
    "    for faceRect in faceRects:\n",
    "           x1 = faceRect.left()-40\n",
    "           y1 = faceRect.top()-40\n",
    "           x2 = faceRect.right()+40\n",
    "           y2 = faceRect.bottom()+40\n",
    "    cropped1= frame[y1:y2,x1:x2]\n",
    "    cv2.imshow(\"LIVE IMAGE SKETCHER\",sketch(cropped1))\n",
    "    if cv2.waitKey(1)==13:    # 13 is the enter key\n",
    "        break\n",
    "cap.release()\n",
    "cv2.destroyAllWindows()"
   ]
  },
  {
   "cell_type": "markdown",
   "metadata": {},
   "source": [
    "FOR DETECTING FACE USING A RECTANGLE IN SKETCH "
   ]
  },
  {
   "cell_type": "code",
   "execution_count": null,
   "metadata": {},
   "outputs": [],
   "source": [
    "while True:\n",
    "    ret,frame=cap.read()\n",
    "    hogFaceDetector = dlib.get_frontal_face_detector()\n",
    "    faceRects = hogFaceDetector(frame, 0)\n",
    "    for faceRect in faceRects:\n",
    "           x1 = faceRect.left()-40\n",
    "           y1 = faceRect.top()-40\n",
    "           x2 = faceRect.right()+40\n",
    "           y2 = faceRect.bottom()+40\n",
    "    cv2.rectangle(frame,(x1,y1),(x2,y2),(0,127,255),5) # this will draw a rectancle around the face in the sketch\n",
    "    cv2.imshow(\"LIVE IMAGE SKETCHER\",sketch(frame))\n",
    "    if cv2.waitKey(1)==13:    # 13 is the enter key\n",
    "        break\n",
    "cap.release()\n",
    "cv2.destroyAllWindows()"
   ]
  }
 ],
 "metadata": {
  "kernelspec": {
   "display_name": "Python 3",
   "language": "python",
   "name": "python3"
  },
  "language_info": {
   "codemirror_mode": {
    "name": "ipython",
    "version": 3
   },
   "file_extension": ".py",
   "mimetype": "text/x-python",
   "name": "python",
   "nbconvert_exporter": "python",
   "pygments_lexer": "ipython3",
   "version": "3.8.2"
  }
 },
 "nbformat": 4,
 "nbformat_minor": 4
}
