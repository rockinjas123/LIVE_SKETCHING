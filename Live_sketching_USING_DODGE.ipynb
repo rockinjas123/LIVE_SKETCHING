{
 "cells": [
  {
   "cell_type": "code",
   "execution_count": 2,
   "metadata": {},
   "outputs": [],
   "source": [
    "import cv2\n",
    "import numpy as np\n",
    "import dlib\n",
    "import matplotlib\n",
    "import matplotlib.pyplot as plt\n",
    "%matplotlib inline"
   ]
  },
  {
   "cell_type": "code",
   "execution_count": 3,
   "metadata": {},
   "outputs": [],
   "source": [
    "def dodgeV2(image, mask):\n",
    "    return cv2.divide(image, 255-mask, scale=256)"
   ]
  },
  {
   "cell_type": "code",
   "execution_count": 4,
   "metadata": {},
   "outputs": [],
   "source": [
    "def sketch(image):\n",
    "    kernel_sharpening = np.array([[-1,-1,-1], \n",
    "                             [-1, 9,-1],\n",
    "                             [-1,-1,-1]])\n",
    "    sharpened = cv2.filter2D(image,-1,kernel_sharpening)\n",
    "    img_gray = cv2.cvtColor(sharpened, cv2.COLOR_BGR2GRAY)\n",
    "    inv = 255-img_gray\n",
    "    img_blur=cv2.GaussianBlur(inv,(5,5),0)    \n",
    "    sketched_image=dodgeV2(img_blur, img_gray)\n",
    "    return(sketched_image)"
   ]
  },
  {
   "cell_type": "code",
   "execution_count": 5,
   "metadata": {},
   "outputs": [],
   "source": [
    "cap=cv2.VideoCapture(0) #switches on the webcam"
   ]
  },
  {
   "cell_type": "markdown",
   "metadata": {},
   "source": [
    "FOR TAKING THE WHOLE SCREEN"
   ]
  },
  {
   "cell_type": "code",
   "execution_count": 37,
   "metadata": {},
   "outputs": [],
   "source": [
    "while True:\n",
    "    ret,frame=cap.read()\n",
    "    cv2.imshow(\"LIVE IMAGE SKETCHER\",sketch(frame))\n",
    "    if cv2.waitKey(1)==13:    # 13 is the enter key\n",
    "        break\n",
    "cap.release()\n",
    "cv2.destroyAllWindows()"
   ]
  },
  {
   "cell_type": "markdown",
   "metadata": {},
   "source": [
    "FOR EXTRACTING THE FACE ONLY"
   ]
  },
  {
   "cell_type": "code",
   "execution_count": 6,
   "metadata": {},
   "outputs": [],
   "source": [
    "while True:\n",
    "    ret,frame=cap.read()\n",
    "    hogFaceDetector = dlib.get_frontal_face_detector()\n",
    "    faceRects = hogFaceDetector(frame, 0)\n",
    "    for faceRect in faceRects:\n",
    "           x1 = faceRect.left()-40\n",
    "           y1 = faceRect.top()-40\n",
    "           x2 = faceRect.right()+40\n",
    "           y2 = faceRect.bottom()+40\n",
    "    cropped1= frame[y1:y2,x1:x2]\n",
    "    cv2.imshow(\"LIVE IMAGE SKETCHER\",sketch(cropped1))\n",
    "    if cv2.waitKey(1)==13:    # 13 is the enter key\n",
    "        break\n",
    "cap.release()\n",
    "cv2.destroyAllWindows()"
   ]
  },
  {
   "cell_type": "code",
   "execution_count": null,
   "metadata": {},
   "outputs": [],
   "source": []
  }
 ],
 "metadata": {
  "kernelspec": {
   "display_name": "Python 3",
   "language": "python",
   "name": "python3"
  },
  "language_info": {
   "codemirror_mode": {
    "name": "ipython",
    "version": 3
   },
   "file_extension": ".py",
   "mimetype": "text/x-python",
   "name": "python",
   "nbconvert_exporter": "python",
   "pygments_lexer": "ipython3",
   "version": "3.8.2"
  }
 },
 "nbformat": 4,
 "nbformat_minor": 4
}
